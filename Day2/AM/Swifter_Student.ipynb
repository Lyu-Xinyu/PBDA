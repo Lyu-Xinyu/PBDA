{
  "nbformat": 4,
  "nbformat_minor": 0,
  "metadata": {
    "colab": {
      "name": "Day_3_Swifter_Student_V1.ipynb",
      "provenance": [],
      "collapsed_sections": []
    },
    "kernelspec": {
      "name": "python3",
      "display_name": "Python 3"
    },
    "language_info": {
      "name": "python"
    }
  },
  "cells": [
    {
      "cell_type": "markdown",
      "metadata": {
        "id": "FXavDpNnh2Ib"
      },
      "source": [
        "# Swifter\n",
        "\n",
        "**Most important:**\n",
        "It will deal with GIL (only one thread can be in a state of execution at any point in time) under the hood and use all the cores.\n",
        "https://realpython.com/python-gil/\n",
        "\n",
        "\n",
        "A package which efficiently applies any function to a pandas dataframe or series in the fastest available manner.\n",
        "\n",
        "https://github.com/jmcarpenter2/swifter\n",
        "\n",
        "https://github.com/jmcarpenter2/swifter/blob/master/examples/swifter_apply_examples.ipynb"
      ]
    },
    {
      "cell_type": "markdown",
      "metadata": {
        "id": "WdpML1S3wSgc"
      },
      "source": [
        "**Optimizing code:**\n",
        "1. Avoid loops; they’re slow and, in most common use cases, unnecessary.\n",
        "2. Vectorization is usually better than scalar operations. \n"
      ]
    },
    {
      "cell_type": "markdown",
      "source": [
        "# Vectorization in Python \n"
      ],
      "metadata": {
        "id": "dD8YfpweDzBj"
      }
    },
    {
      "cell_type": "code",
      "source": [
        "import numpy as np\n",
        "from time import time\n",
        "\n",
        "n=9999999\n",
        "x=np.random.rand(n)\n",
        "y=np.random.rand(n)"
      ],
      "metadata": {
        "id": "hCHY2FMYEDUT"
      },
      "execution_count": null,
      "outputs": []
    },
    {
      "cell_type": "markdown",
      "source": [
        "In the following section, we are going to add two numpy array, one in the elementwise for loop way, and the other in the vectorization way, and compare the time. "
      ],
      "metadata": {
        "id": "KZbzUfaCE15g"
      }
    },
    {
      "cell_type": "code",
      "source": [
        "start_time=time()\n",
        "s1=[]\n",
        "\n",
        "for k in range(n):\n",
        "  s1.append(x[k]+y[k])\n",
        "\n",
        "end_time=time()\n",
        "\n",
        "t1=end_time-start_time\n",
        "\n",
        "print (\"the running time for elementwise adding is %s seconds\"%(t1))"
      ],
      "metadata": {
        "id": "EzUxLF7UEDW0"
      },
      "execution_count": null,
      "outputs": []
    },
    {
      "cell_type": "code",
      "source": [
        "start_time=time()\n",
        "s2=x+y\n",
        "end_time=time()\n",
        "t2=end_time-start_time\n",
        "\n",
        "print(\"the running time for vectorization adding is %s seconds\"%(t2))"
      ],
      "metadata": {
        "id": "A8Rbp_9dEDZk"
      },
      "execution_count": null,
      "outputs": []
    },
    {
      "cell_type": "code",
      "source": [
        "(s1==s2).all()"
      ],
      "metadata": {
        "id": "WWip0pQUEDb3"
      },
      "execution_count": null,
      "outputs": []
    },
    {
      "cell_type": "code",
      "source": [
        "t1/t2"
      ],
      "metadata": {
        "id": "_N32o641EDd8"
      },
      "execution_count": null,
      "outputs": []
    },
    {
      "cell_type": "markdown",
      "source": [
        "# Swifter Demo"
      ],
      "metadata": {
        "id": "MCPGzspfD98p"
      }
    },
    {
      "cell_type": "code",
      "metadata": {
        "id": "tGlaYJjJjM6X"
      },
      "source": [
        "!pip install swifter"
      ],
      "execution_count": null,
      "outputs": []
    },
    {
      "cell_type": "markdown",
      "metadata": {
        "id": "JLA1WktW_vtA"
      },
      "source": [
        "**Make sure you restart your run time**"
      ]
    },
    {
      "cell_type": "code",
      "metadata": {
        "id": "Mr4dT9q1iVrZ"
      },
      "source": [
        "#Import the package\n",
        "import pandas as pd\n",
        "import swifter"
      ],
      "execution_count": null,
      "outputs": []
    },
    {
      "cell_type": "code",
      "source": [
        "from google.colab import files\n",
        "uploaded = files.upload()"
      ],
      "metadata": {
        "id": "0LH0ZkWlHzYo"
      },
      "execution_count": null,
      "outputs": []
    },
    {
      "cell_type": "code",
      "metadata": {
        "id": "907eRr3BibB6"
      },
      "source": [
        "#read the dataset\n",
        "df = pd.read_csv('r_dataisbeautiful_posts.csv')"
      ],
      "execution_count": null,
      "outputs": []
    },
    {
      "cell_type": "code",
      "metadata": {
        "id": "Z31TnLEvjpvI"
      },
      "source": [
        "%time df['score_2_subs'] = df['score'].apply(lambda x: x/2 )"
      ],
      "execution_count": null,
      "outputs": []
    },
    {
      "cell_type": "code",
      "metadata": {
        "id": "zFWWu-Q8jqpP"
      },
      "source": [
        "#When we importing the Swifter package, it would integrated with Pandas package and we could use functional attribute from Pandas such as apply\n",
        "%time df['score_2_swift'] = df['score'].swifter.apply(lambda x: x/2 )"
      ],
      "execution_count": null,
      "outputs": []
    },
    {
      "cell_type": "markdown",
      "metadata": {
        "id": "hA0xZeWOkFTP"
      },
      "source": [
        "## Vectorized Function for Swifter\n",
        "\n",
        "From the documentation, it is stated that Swifter could apply function a hundred times faster than Pandas function. This, however, only applied if we are using a vectorized form of function.\n",
        "\n",
        "Let’s say I create a function that evaluates the num_comments and score variable. When the comment count is zero, I will double the score. While it’s not, the score would stay the same. Then I would create a new column based on that."
      ]
    },
    {
      "cell_type": "code",
      "metadata": {
        "id": "eyddTscrjqr6"
      },
      "source": [
        "# Some thing like this useful when we are doing feature engineering as well.\n",
        "\n",
        "def scoring_comment(x):\n",
        "    if x['num_comments'] == 0:\n",
        "        return x['score'] *2\n",
        "    else:\n",
        "        return x['score']\n",
        "        \n",
        "#Trying applying the function using Pandas apply\n",
        "%time df['score_comment'] = df[['score','num_comments']].apply(scoring_comment, axis =1)"
      ],
      "execution_count": null,
      "outputs": []
    },
    {
      "cell_type": "code",
      "metadata": {
        "id": "a1iAmn21kNy-"
      },
      "source": [
        "# Swifter apply\n",
        "%time df['score_comment_swift'] = df[['score', 'num_comments']].swifter.apply(scoring_comment, axis =1)"
      ],
      "execution_count": null,
      "outputs": []
    },
    {
      "cell_type": "markdown",
      "metadata": {
        "id": "-8tUwObrkUi5"
      },
      "source": [
        "As we can see above,Swifter apply is not that faster compared to the regular Pandas apply function. This is because Swifter with non-vectorized function would implement dask parallel processing, not relying on the Swifter processing itself. So, how is the performance if we change the function to the vectorized function? Let’s try it."
      ]
    },
    {
      "cell_type": "code",
      "metadata": {
        "id": "zy5PQXQjkN15"
      },
      "source": [
        "import numpy as np\n",
        "\n",
        "#Using np.where to implement vectorized function\n",
        "def scoring_comment_vectorized(x):\n",
        "    return np.where(x['num_comments'] ==0, x['score']*2, x['score'])\n",
        "    \n",
        "#Trying using the normal Pandas apply\n",
        "%time df['score_comment_vectorized'] = df[['score', 'num_comments']].apply(scoring_comment_vectorized, axis =1)"
      ],
      "execution_count": null,
      "outputs": []
    },
    {
      "cell_type": "code",
      "metadata": {
        "id": "ul9mhFFjkN4c"
      },
      "source": [
        "# Swifter apply\n",
        "%time df['score_comment_vectorized_swift'] = df[['score', 'num_comments']].swifter.apply(scoring_comment_vectorized, axis =1)"
      ],
      "execution_count": null,
      "outputs": []
    },
    {
      "cell_type": "markdown",
      "metadata": {
        "id": "bRLAAE4VwiWF"
      },
      "source": [
        "Good read: https://towardsdatascience.com/how-to-make-your-pandas-loop-71-803-times-faster-805030df4f06"
      ]
    }
  ]
}